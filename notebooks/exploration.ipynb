{
 "cells": [
  {
   "cell_type": "code",
   "execution_count": 1,
   "metadata": {},
   "outputs": [],
   "source": [
    "import pandas as pd"
   ]
  },
  {
   "cell_type": "code",
   "execution_count": 8,
   "metadata": {},
   "outputs": [],
   "source": [
    "data = pd.read_csv('../data/korean_stock_data.csv')  "
   ]
  },
  {
   "cell_type": "code",
   "execution_count": 9,
   "metadata": {},
   "outputs": [
    {
     "data": {
      "text/html": [
       "<div>\n",
       "<style scoped>\n",
       "    .dataframe tbody tr th:only-of-type {\n",
       "        vertical-align: middle;\n",
       "    }\n",
       "\n",
       "    .dataframe tbody tr th {\n",
       "        vertical-align: top;\n",
       "    }\n",
       "\n",
       "    .dataframe thead th {\n",
       "        text-align: right;\n",
       "    }\n",
       "</style>\n",
       "<table border=\"1\" class=\"dataframe\">\n",
       "  <thead>\n",
       "    <tr style=\"text-align: right;\">\n",
       "      <th></th>\n",
       "      <th>opening_price</th>\n",
       "      <th>highest_price</th>\n",
       "      <th>lowest_price</th>\n",
       "      <th>closing_price</th>\n",
       "      <th>trading_volume</th>\n",
       "      <th>num_of_shares</th>\n",
       "      <th>company</th>\n",
       "      <th>timestamp</th>\n",
       "    </tr>\n",
       "  </thead>\n",
       "  <tbody>\n",
       "    <tr>\n",
       "      <th>0</th>\n",
       "      <td>10400.0</td>\n",
       "      <td>10920.0</td>\n",
       "      <td>10140.0</td>\n",
       "      <td>10880.0</td>\n",
       "      <td>114750.0</td>\n",
       "      <td>5586294</td>\n",
       "      <td>Dongwha Pharm.Co.,Ltd</td>\n",
       "      <td>2008-01-03</td>\n",
       "    </tr>\n",
       "    <tr>\n",
       "      <th>1</th>\n",
       "      <td>10720.0</td>\n",
       "      <td>10960.0</td>\n",
       "      <td>10480.0</td>\n",
       "      <td>10960.0</td>\n",
       "      <td>81165.0</td>\n",
       "      <td>5586294</td>\n",
       "      <td>Dongwha Pharm.Co.,Ltd</td>\n",
       "      <td>2008-01-04</td>\n",
       "    </tr>\n",
       "    <tr>\n",
       "      <th>2</th>\n",
       "      <td>10880.0</td>\n",
       "      <td>11120.0</td>\n",
       "      <td>10320.0</td>\n",
       "      <td>11120.0</td>\n",
       "      <td>66320.0</td>\n",
       "      <td>5586294</td>\n",
       "      <td>Dongwha Pharm.Co.,Ltd</td>\n",
       "      <td>2008-01-07</td>\n",
       "    </tr>\n",
       "    <tr>\n",
       "      <th>3</th>\n",
       "      <td>11120.0</td>\n",
       "      <td>11180.0</td>\n",
       "      <td>10940.0</td>\n",
       "      <td>11040.0</td>\n",
       "      <td>42455.0</td>\n",
       "      <td>5586294</td>\n",
       "      <td>Dongwha Pharm.Co.,Ltd</td>\n",
       "      <td>2008-01-08</td>\n",
       "    </tr>\n",
       "    <tr>\n",
       "      <th>4</th>\n",
       "      <td>10920.0</td>\n",
       "      <td>11060.0</td>\n",
       "      <td>10780.0</td>\n",
       "      <td>11060.0</td>\n",
       "      <td>43205.0</td>\n",
       "      <td>5586294</td>\n",
       "      <td>Dongwha Pharm.Co.,Ltd</td>\n",
       "      <td>2008-01-09</td>\n",
       "    </tr>\n",
       "  </tbody>\n",
       "</table>\n",
       "</div>"
      ],
      "text/plain": [
       "   opening_price  highest_price  lowest_price  closing_price  trading_volume  \\\n",
       "0        10400.0        10920.0       10140.0        10880.0        114750.0   \n",
       "1        10720.0        10960.0       10480.0        10960.0         81165.0   \n",
       "2        10880.0        11120.0       10320.0        11120.0         66320.0   \n",
       "3        11120.0        11180.0       10940.0        11040.0         42455.0   \n",
       "4        10920.0        11060.0       10780.0        11060.0         43205.0   \n",
       "\n",
       "   num_of_shares                company   timestamp  \n",
       "0        5586294  Dongwha Pharm.Co.,Ltd  2008-01-03  \n",
       "1        5586294  Dongwha Pharm.Co.,Ltd  2008-01-04  \n",
       "2        5586294  Dongwha Pharm.Co.,Ltd  2008-01-07  \n",
       "3        5586294  Dongwha Pharm.Co.,Ltd  2008-01-08  \n",
       "4        5586294  Dongwha Pharm.Co.,Ltd  2008-01-09  "
      ]
     },
     "execution_count": 9,
     "metadata": {},
     "output_type": "execute_result"
    }
   ],
   "source": [
    "data.head(5)"
   ]
  }
 ],
 "metadata": {
  "kernelspec": {
   "display_name": "base",
   "language": "python",
   "name": "python3"
  },
  "language_info": {
   "codemirror_mode": {
    "name": "ipython",
    "version": 3
   },
   "file_extension": ".py",
   "mimetype": "text/x-python",
   "name": "python",
   "nbconvert_exporter": "python",
   "pygments_lexer": "ipython3",
   "version": "3.12.7"
  }
 },
 "nbformat": 4,
 "nbformat_minor": 2
}
