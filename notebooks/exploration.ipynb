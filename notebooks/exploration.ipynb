{
 "cells": [
  {
   "cell_type": "markdown",
   "metadata": {},
   "source": [
    "Let explain what we aim to solve broadly. In this analysis we divided into fundamental analysis and technical analysis.\n",
    "- Fundamental analysis involve analyzing company's future profitability based on its current business environment and financial performance.\n",
    "- Technical analysis on the the other hand includes reading the charts and using statistical figures to identify the trend in the stock market.\n",
    "\n",
    "So our focus will be on the technical analysis part.\n",
    "\n",
    "Dataset explanation:\n",
    "- The Open and Close represent the starting and final price at which the stock is traded on a particular day.\n",
    "- High, Low and Last represent the maximum, minimum, and last price of the share for the day.\n",
    "- \n",
    "Another thing to consider is the trading opens at 9:00 a.m. and closes at 3:30 p.m (6hour30min). \n",
    "The market is open every day of the week except Saturday, Sunday, and holidays\n",
    "\n",
    "The profit or loss calculation is usually determined by the closing price of ta stock for the day, so we will\n",
    "use the 'close' (closing_price) as the target variable."
   ]
  },
  {
   "cell_type": "code",
   "execution_count": 9,
   "metadata": {},
   "outputs": [],
   "source": [
    "import pandas as pd\n",
    "import numpy as np\n",
    "import matplotlib.pyplot as plt\n",
    "from sklearn.preprocessing import MinMaxScaler"
   ]
  },
  {
   "cell_type": "code",
   "execution_count": 2,
   "metadata": {},
   "outputs": [],
   "source": [
    "scaler = MinMaxScaler(feature_range=(0, 1))"
   ]
  },
  {
   "cell_type": "code",
   "execution_count": 3,
   "metadata": {},
   "outputs": [],
   "source": [
    "df = pd.read_csv('../data/korean_stock_data.csv')"
   ]
  },
  {
   "cell_type": "code",
   "execution_count": 4,
   "metadata": {},
   "outputs": [
    {
     "data": {
      "text/html": [
       "<div>\n",
       "<style scoped>\n",
       "    .dataframe tbody tr th:only-of-type {\n",
       "        vertical-align: middle;\n",
       "    }\n",
       "\n",
       "    .dataframe tbody tr th {\n",
       "        vertical-align: top;\n",
       "    }\n",
       "\n",
       "    .dataframe thead th {\n",
       "        text-align: right;\n",
       "    }\n",
       "</style>\n",
       "<table border=\"1\" class=\"dataframe\">\n",
       "  <thead>\n",
       "    <tr style=\"text-align: right;\">\n",
       "      <th></th>\n",
       "      <th>open</th>\n",
       "      <th>high</th>\n",
       "      <th>low</th>\n",
       "      <th>close</th>\n",
       "      <th>volume</th>\n",
       "      <th>shares</th>\n",
       "      <th>company</th>\n",
       "      <th>date</th>\n",
       "    </tr>\n",
       "  </thead>\n",
       "  <tbody>\n",
       "    <tr>\n",
       "      <th>0</th>\n",
       "      <td>10400.0</td>\n",
       "      <td>10920.0</td>\n",
       "      <td>10140.0</td>\n",
       "      <td>10880.0</td>\n",
       "      <td>114750.0</td>\n",
       "      <td>5586294</td>\n",
       "      <td>Dongwha Pharm.Co.,Ltd</td>\n",
       "      <td>2008-01-03</td>\n",
       "    </tr>\n",
       "    <tr>\n",
       "      <th>1</th>\n",
       "      <td>10720.0</td>\n",
       "      <td>10960.0</td>\n",
       "      <td>10480.0</td>\n",
       "      <td>10960.0</td>\n",
       "      <td>81165.0</td>\n",
       "      <td>5586294</td>\n",
       "      <td>Dongwha Pharm.Co.,Ltd</td>\n",
       "      <td>2008-01-04</td>\n",
       "    </tr>\n",
       "    <tr>\n",
       "      <th>2</th>\n",
       "      <td>10880.0</td>\n",
       "      <td>11120.0</td>\n",
       "      <td>10320.0</td>\n",
       "      <td>11120.0</td>\n",
       "      <td>66320.0</td>\n",
       "      <td>5586294</td>\n",
       "      <td>Dongwha Pharm.Co.,Ltd</td>\n",
       "      <td>2008-01-07</td>\n",
       "    </tr>\n",
       "    <tr>\n",
       "      <th>3</th>\n",
       "      <td>11120.0</td>\n",
       "      <td>11180.0</td>\n",
       "      <td>10940.0</td>\n",
       "      <td>11040.0</td>\n",
       "      <td>42455.0</td>\n",
       "      <td>5586294</td>\n",
       "      <td>Dongwha Pharm.Co.,Ltd</td>\n",
       "      <td>2008-01-08</td>\n",
       "    </tr>\n",
       "    <tr>\n",
       "      <th>4</th>\n",
       "      <td>10920.0</td>\n",
       "      <td>11060.0</td>\n",
       "      <td>10780.0</td>\n",
       "      <td>11060.0</td>\n",
       "      <td>43205.0</td>\n",
       "      <td>5586294</td>\n",
       "      <td>Dongwha Pharm.Co.,Ltd</td>\n",
       "      <td>2008-01-09</td>\n",
       "    </tr>\n",
       "  </tbody>\n",
       "</table>\n",
       "</div>"
      ],
      "text/plain": [
       "      open     high      low    close    volume   shares  \\\n",
       "0  10400.0  10920.0  10140.0  10880.0  114750.0  5586294   \n",
       "1  10720.0  10960.0  10480.0  10960.0   81165.0  5586294   \n",
       "2  10880.0  11120.0  10320.0  11120.0   66320.0  5586294   \n",
       "3  11120.0  11180.0  10940.0  11040.0   42455.0  5586294   \n",
       "4  10920.0  11060.0  10780.0  11060.0   43205.0  5586294   \n",
       "\n",
       "                 company        date  \n",
       "0  Dongwha Pharm.Co.,Ltd  2008-01-03  \n",
       "1  Dongwha Pharm.Co.,Ltd  2008-01-04  \n",
       "2  Dongwha Pharm.Co.,Ltd  2008-01-07  \n",
       "3  Dongwha Pharm.Co.,Ltd  2008-01-08  \n",
       "4  Dongwha Pharm.Co.,Ltd  2008-01-09  "
      ]
     },
     "execution_count": 4,
     "metadata": {},
     "output_type": "execute_result"
    }
   ],
   "source": [
    "# Rename columns\n",
    "df.columns = ['open', 'high', 'low', 'close', 'volume', 'shares', 'company', 'date']\n",
    "df.head(5)"
   ]
  },
  {
   "cell_type": "code",
   "execution_count": 5,
   "metadata": {},
   "outputs": [
    {
     "data": {
      "text/html": [
       "<div>\n",
       "<style scoped>\n",
       "    .dataframe tbody tr th:only-of-type {\n",
       "        vertical-align: middle;\n",
       "    }\n",
       "\n",
       "    .dataframe tbody tr th {\n",
       "        vertical-align: top;\n",
       "    }\n",
       "\n",
       "    .dataframe thead th {\n",
       "        text-align: right;\n",
       "    }\n",
       "</style>\n",
       "<table border=\"1\" class=\"dataframe\">\n",
       "  <thead>\n",
       "    <tr style=\"text-align: right;\">\n",
       "      <th></th>\n",
       "      <th>open</th>\n",
       "      <th>high</th>\n",
       "      <th>low</th>\n",
       "      <th>close</th>\n",
       "      <th>volume</th>\n",
       "      <th>shares</th>\n",
       "      <th>company</th>\n",
       "    </tr>\n",
       "    <tr>\n",
       "      <th>date</th>\n",
       "      <th></th>\n",
       "      <th></th>\n",
       "      <th></th>\n",
       "      <th></th>\n",
       "      <th></th>\n",
       "      <th></th>\n",
       "      <th></th>\n",
       "    </tr>\n",
       "  </thead>\n",
       "  <tbody>\n",
       "    <tr>\n",
       "      <th>2008-01-03</th>\n",
       "      <td>10400.0</td>\n",
       "      <td>10920.0</td>\n",
       "      <td>10140.0</td>\n",
       "      <td>10880.0</td>\n",
       "      <td>114750.0</td>\n",
       "      <td>5586294</td>\n",
       "      <td>Dongwha Pharm.Co.,Ltd</td>\n",
       "    </tr>\n",
       "    <tr>\n",
       "      <th>2008-01-04</th>\n",
       "      <td>10720.0</td>\n",
       "      <td>10960.0</td>\n",
       "      <td>10480.0</td>\n",
       "      <td>10960.0</td>\n",
       "      <td>81165.0</td>\n",
       "      <td>5586294</td>\n",
       "      <td>Dongwha Pharm.Co.,Ltd</td>\n",
       "    </tr>\n",
       "    <tr>\n",
       "      <th>2008-01-07</th>\n",
       "      <td>10880.0</td>\n",
       "      <td>11120.0</td>\n",
       "      <td>10320.0</td>\n",
       "      <td>11120.0</td>\n",
       "      <td>66320.0</td>\n",
       "      <td>5586294</td>\n",
       "      <td>Dongwha Pharm.Co.,Ltd</td>\n",
       "    </tr>\n",
       "    <tr>\n",
       "      <th>2008-01-08</th>\n",
       "      <td>11120.0</td>\n",
       "      <td>11180.0</td>\n",
       "      <td>10940.0</td>\n",
       "      <td>11040.0</td>\n",
       "      <td>42455.0</td>\n",
       "      <td>5586294</td>\n",
       "      <td>Dongwha Pharm.Co.,Ltd</td>\n",
       "    </tr>\n",
       "    <tr>\n",
       "      <th>2008-01-09</th>\n",
       "      <td>10920.0</td>\n",
       "      <td>11060.0</td>\n",
       "      <td>10780.0</td>\n",
       "      <td>11060.0</td>\n",
       "      <td>43205.0</td>\n",
       "      <td>5586294</td>\n",
       "      <td>Dongwha Pharm.Co.,Ltd</td>\n",
       "    </tr>\n",
       "  </tbody>\n",
       "</table>\n",
       "</div>"
      ],
      "text/plain": [
       "               open     high      low    close    volume   shares  \\\n",
       "date                                                                \n",
       "2008-01-03  10400.0  10920.0  10140.0  10880.0  114750.0  5586294   \n",
       "2008-01-04  10720.0  10960.0  10480.0  10960.0   81165.0  5586294   \n",
       "2008-01-07  10880.0  11120.0  10320.0  11120.0   66320.0  5586294   \n",
       "2008-01-08  11120.0  11180.0  10940.0  11040.0   42455.0  5586294   \n",
       "2008-01-09  10920.0  11060.0  10780.0  11060.0   43205.0  5586294   \n",
       "\n",
       "                          company  \n",
       "date                               \n",
       "2008-01-03  Dongwha Pharm.Co.,Ltd  \n",
       "2008-01-04  Dongwha Pharm.Co.,Ltd  \n",
       "2008-01-07  Dongwha Pharm.Co.,Ltd  \n",
       "2008-01-08  Dongwha Pharm.Co.,Ltd  \n",
       "2008-01-09  Dongwha Pharm.Co.,Ltd  "
      ]
     },
     "execution_count": 5,
     "metadata": {},
     "output_type": "execute_result"
    }
   ],
   "source": [
    "# Convert 'date' to datetime\n",
    "df['date'] = pd.to_datetime(df['date'], format='%Y-%m-%d')\n",
    "df.set_index('date', inplace=True)\n",
    "df.head(5)"
   ]
  },
  {
   "cell_type": "code",
   "execution_count": 13,
   "metadata": {},
   "outputs": [
    {
     "data": {
      "text/plain": [
       "[<matplotlib.lines.Line2D at 0x21208a606e0>]"
      ]
     },
     "execution_count": 13,
     "metadata": {},
     "output_type": "execute_result"
    },
    {
     "data": {
      "image/png": "[encoded data removed]",
      "text/plain": [
       "<Figure size 1200x800 with 1 Axes>"
      ]
     },
     "metadata": {},
     "output_type": "display_data"
    }
   ],
   "source": [
    "plt.figure(figsize=(12,8))\n",
    "plt.plot(df['close'], label=\"Close Price History\")"
   ]
  },
  {
   "attachments": {
    "image.png": {
     "image/png": "[encoded data removed]"
    }
   },
   "cell_type": "markdown",
   "metadata": {},
   "source": [
    "Moving Average\n",
    "We will try to determine overall performance \n",
    "\n",
    "![image.png](attachment:image.png) "
   ]
  },
  {
   "cell_type": "markdown",
   "metadata": {},
   "source": [
    "### Step 1: Create a dataframe contain only 'close' and 'date' price columns, then split int inot train and val set to verify our predictions."
   ]
  },
  {
   "cell_type": "code",
   "execution_count": 15,
   "metadata": {},
   "outputs": [
    {
     "name": "stdout",
     "output_type": "stream",
     "text": [
      "1048575\n"
     ]
    }
   ],
   "source": [
    "total_rows = len(df)\n",
    "\n",
    "print(total_rows)"
   ]
  },
  {
   "cell_type": "markdown",
   "metadata": {},
   "source": [
    "NOTE: While splitting the data into train and validation set, we cannot \n",
    "use random splitting since that will destroy the time component. So here we \n",
    "have set the last year’s data into validation and the 4 years’ data before that into train set.\n",
    "\n",
    "\n",
    "Step-by-step process:\n",
    "- Sort the data by date to ensure that it is in chronological order\n",
    "- Determine the last year of data for the val set\n",
    "- Split data val set (last year), train set (4y)\n"
   ]
  },
  {
   "cell_type": "code",
   "execution_count": 57,
   "metadata": {},
   "outputs": [
    {
     "name": "stdout",
     "output_type": "stream",
     "text": [
      "\n",
      "Shape of training set:\n",
      "(2841, 10)\n",
      "\n",
      "Shape of validation set:\n",
      "(248, 10)\n"
     ]
    }
   ],
   "source": [
    "# remove duplicates in the index first since we set 'date' to the index\n",
    "new_data = new_data.loc[~new_data.index.duplicated(keep='first')]\n",
    "\n",
    "# Set 1 year before the latest date\n",
    "latest_date = new_data.index.max()   \n",
    "start_date_valid = latest_date - pd.DateOffset(years=1)\n",
    "\n",
    "train_end_index = new_data.index[new_data.index < start_date_valid][-1]  \n",
    "\n",
    "train = new_data[:train_end_index]\n",
    "valid = new_data.loc[train_end_index + pd.Timedelta(days=1):]\n",
    "\n",
    "print('\\nShape of training set:')\n",
    "print(train.shape)\n",
    "\n",
    "print('\\nShape of validation set:')\n",
    "print(valid.shape)"
   ]
  },
  {
   "cell_type": "markdown",
   "metadata": {},
   "source": [
    "Let's check the RMSE of the val set.\n",
    "\n",
    "But first let's determine the look-back period of how much we should use to predict the next day\n",
    "- Look-back window: 30-50 Days "
   ]
  },
  {
   "cell_type": "code",
   "execution_count": 64,
   "metadata": {},
   "outputs": [
    {
     "name": "stdout",
     "output_type": "stream",
     "text": [
      "\n",
      "RMSE value on validation set:\n",
      "2979965.6456105947\n"
     ]
    }
   ],
   "source": [
    "look_back = 30 \n",
    "\n",
    "preds = []\n",
    "for j in range(0, valid.shape[0]):\n",
    "    a = train['close'][len(train) - look_back + j:].sum() + sum(preds)\n",
    "    b = a/look_back\n",
    "    preds.append(b)\n",
    "    \n",
    "rms = np.sqrt(np.mean(np.power((np.array(valid['close']) - preds), 2)))\n",
    "print('\\nRMSE value on validation set:')\n",
    "print(rms)"
   ]
  },
  {
   "cell_type": "code",
   "execution_count": 71,
   "metadata": {},
   "outputs": [
    {
     "name": "stderr",
     "output_type": "stream",
     "text": [
      "C:\\Users\\ADMIN\\AppData\\Local\\Temp\\ipykernel_9492\\3075031605.py:1: SettingWithCopyWarning: \n",
      "A value is trying to be set on a copy of a slice from a DataFrame.\n",
      "Try using .loc[row_indexer,col_indexer] = value instead\n",
      "\n",
      "See the caveats in the documentation: https://pandas.pydata.org/pandas-docs/stable/user_guide/indexing.html#returning-a-view-versus-a-copy\n",
      "  valid['Predictions'] = preds\n"
     ]
    },
    {
     "data": {
      "image/png": "[encoded data removed]",
      "text/plain": [
       "<Figure size 800x400 with 1 Axes>"
      ]
     },
     "metadata": {},
     "output_type": "display_data"
    }
   ],
   "source": [
    "valid['Predictions'] = preds\n",
    "\n",
    "plt.figure(figsize=(8,4)) \n",
    "plt.plot(train.index, train['close'], label='Train', color='blue', linewidth=2)\n",
    "plt.plot(valid.index, valid['close'], label='Actual Validation', color='green', linewidth=2)\n",
    "plt.plot(valid.index, valid['Predictions'], label='Predictions', color='red', linestyle='--', linewidth=2)\n",
    "\n",
    "plt.title('Stock Price Predictions vs Actual (Validation Set)')\n",
    "plt.xlabel('Date')\n",
    "plt.ylabel('Stock Price')\n",
    "\n",
    "plt.legend()\n",
    "\n",
    "plt.grid(True)\n",
    "plt.show()"
   ]
  },
  {
   "cell_type": "markdown",
   "metadata": {},
   "source": [
    "Implement a Linear Regression model to see the relationship between independent and dependent variables.\n",
    "\n",
    "The code below wil create features such as:\n",
    "- year\n",
    "- month\n",
    "- week\n",
    "- day\n",
    "- weekday\n",
    "- is_month_end\n",
    "- is_month_start\n",
    "- is_quarter_end\n",
    "- is_quarter_start\n",
    "- is_year_end\n",
    "- is_year_start\n",
    "\n",
    "Additional feature shall be add accordingly. Such as the first the last day of the week could affect the stock's closing price far more than the other days. So, we wil create feature that identifies whether a given day is Monday/Friday, Tuesday/Wednesday/Thursday, and except weekend and holiday."
   ]
  },
  {
   "cell_type": "code",
   "execution_count": 72,
   "metadata": {},
   "outputs": [],
   "source": [
    "new_data = pd.DataFrame({'date': data['date'].values, 'close': data['close'].values})\n",
    "\n",
    "new_data['year'] = new_data['date'].dt.year\n",
    "new_data['month'] = new_data['date'].dt.month\n",
    "new_data['day'] = new_data['date'].dt.day\n",
    "new_data['weekday'] = new_data['date'].dt.weekday\n",
    "new_data['is_month_end'] = new_data['date'].dt.is_month_end\n",
    "new_data['is_month_start'] = new_data['date'].dt.is_month_start\n",
    "new_data['is_quarter_end'] = new_data['date'].dt.is_quarter_end\n",
    "new_data['is_quarter_start'] = new_data['date'].dt.is_quarter_start\n",
    "new_data['is_year_end'] = new_data['date'].dt.is_year_end\n",
    "new_data['is_year_start'] = new_data['date'].dt.is_year_start\n",
    "\n",
    "new_data.drop('date', axis=1, inplace=True)\n",
    "\n",
    "if 'Elapsed' in new_data.columns:\n",
    "    new_data.drop('Elapsed', axis=1, inplace=True)\n",
    "\n",
    "# NOTE: if the day of the week is equal to 0 or 4, the col value will be 1; otherwise, it will be 0 \n",
    "new_data['mon_fri'] = new_data['weekday'].apply(lambda x: 1 if x == 0 or x == 4 else 0)"
   ]
  },
  {
   "cell_type": "code",
   "execution_count": 81,
   "metadata": {},
   "outputs": [
    {
     "ename": "KeyError",
     "evalue": "'date'",
     "output_type": "error",
     "traceback": [
      "\u001b[1;31m---------------------------------------------------------------------------\u001b[0m",
      "\u001b[1;31mKeyError\u001b[0m                                  Traceback (most recent call last)",
      "File \u001b[1;32mc:\\Users\\ADMIN\\anaconda3\\Lib\\site-packages\\pandas\\core\\indexes\\base.py:3805\u001b[0m, in \u001b[0;36mIndex.get_loc\u001b[1;34m(self, key)\u001b[0m\n\u001b[0;32m   3804\u001b[0m \u001b[38;5;28;01mtry\u001b[39;00m:\n\u001b[1;32m-> 3805\u001b[0m     \u001b[38;5;28;01mreturn\u001b[39;00m \u001b[38;5;28mself\u001b[39m\u001b[38;5;241m.\u001b[39m_engine\u001b[38;5;241m.\u001b[39mget_loc(casted_key)\n\u001b[0;32m   3806\u001b[0m \u001b[38;5;28;01mexcept\u001b[39;00m \u001b[38;5;167;01mKeyError\u001b[39;00m \u001b[38;5;28;01mas\u001b[39;00m err:\n",
      "File \u001b[1;32mindex.pyx:167\u001b[0m, in \u001b[0;36mpandas._libs.index.IndexEngine.get_loc\u001b[1;34m()\u001b[0m\n",
      "File \u001b[1;32mindex.pyx:196\u001b[0m, in \u001b[0;36mpandas._libs.index.IndexEngine.get_loc\u001b[1;34m()\u001b[0m\n",
      "File \u001b[1;32mpandas\\\\_libs\\\\hashtable_class_helper.pxi:7081\u001b[0m, in \u001b[0;36mpandas._libs.hashtable.PyObjectHashTable.get_item\u001b[1;34m()\u001b[0m\n",
      "File \u001b[1;32mpandas\\\\_libs\\\\hashtable_class_helper.pxi:7089\u001b[0m, in \u001b[0;36mpandas._libs.hashtable.PyObjectHashTable.get_item\u001b[1;34m()\u001b[0m\n",
      "\u001b[1;31mKeyError\u001b[0m: 'date'",
      "\nThe above exception was the direct cause of the following exception:\n",
      "\u001b[1;31mKeyError\u001b[0m                                  Traceback (most recent call last)",
      "Cell \u001b[1;32mIn[81], line 2\u001b[0m\n\u001b[0;32m      1\u001b[0m \u001b[38;5;66;03m# Ensure 'train_end_index' is the timestamp in the 'date' column, not the index\u001b[39;00m\n\u001b[1;32m----> 2\u001b[0m train_end_index_pos \u001b[38;5;241m=\u001b[39m new_data[new_data[\u001b[38;5;124m'\u001b[39m\u001b[38;5;124mdate\u001b[39m\u001b[38;5;124m'\u001b[39m] \u001b[38;5;241m==\u001b[39m train_end_index]\u001b[38;5;241m.\u001b[39mindex[\u001b[38;5;241m0\u001b[39m] \u001b[38;5;28;01mif\u001b[39;00m train_end_index \u001b[38;5;129;01min\u001b[39;00m new_data[\u001b[38;5;124m'\u001b[39m\u001b[38;5;124mdate\u001b[39m\u001b[38;5;124m'\u001b[39m]\u001b[38;5;241m.\u001b[39mvalues \u001b[38;5;28;01melse\u001b[39;00m \u001b[38;5;28;01mNone\u001b[39;00m\n\u001b[0;32m      4\u001b[0m \u001b[38;5;28;01mif\u001b[39;00m train_end_index_pos \u001b[38;5;129;01mis\u001b[39;00m \u001b[38;5;129;01mnot\u001b[39;00m \u001b[38;5;28;01mNone\u001b[39;00m:\n\u001b[0;32m      5\u001b[0m     \u001b[38;5;66;03m# Split the data into train and validation sets using .iloc (positional indexing)\u001b[39;00m\n\u001b[0;32m      6\u001b[0m     train \u001b[38;5;241m=\u001b[39m new_data\u001b[38;5;241m.\u001b[39miloc[:train_end_index_pos \u001b[38;5;241m+\u001b[39m \u001b[38;5;241m1\u001b[39m]\n",
      "File \u001b[1;32mc:\\Users\\ADMIN\\anaconda3\\Lib\\site-packages\\pandas\\core\\frame.py:4102\u001b[0m, in \u001b[0;36mDataFrame.__getitem__\u001b[1;34m(self, key)\u001b[0m\n\u001b[0;32m   4100\u001b[0m \u001b[38;5;28;01mif\u001b[39;00m \u001b[38;5;28mself\u001b[39m\u001b[38;5;241m.\u001b[39mcolumns\u001b[38;5;241m.\u001b[39mnlevels \u001b[38;5;241m>\u001b[39m \u001b[38;5;241m1\u001b[39m:\n\u001b[0;32m   4101\u001b[0m     \u001b[38;5;28;01mreturn\u001b[39;00m \u001b[38;5;28mself\u001b[39m\u001b[38;5;241m.\u001b[39m_getitem_multilevel(key)\n\u001b[1;32m-> 4102\u001b[0m indexer \u001b[38;5;241m=\u001b[39m \u001b[38;5;28mself\u001b[39m\u001b[38;5;241m.\u001b[39mcolumns\u001b[38;5;241m.\u001b[39mget_loc(key)\n\u001b[0;32m   4103\u001b[0m \u001b[38;5;28;01mif\u001b[39;00m is_integer(indexer):\n\u001b[0;32m   4104\u001b[0m     indexer \u001b[38;5;241m=\u001b[39m [indexer]\n",
      "File \u001b[1;32mc:\\Users\\ADMIN\\anaconda3\\Lib\\site-packages\\pandas\\core\\indexes\\base.py:3812\u001b[0m, in \u001b[0;36mIndex.get_loc\u001b[1;34m(self, key)\u001b[0m\n\u001b[0;32m   3807\u001b[0m     \u001b[38;5;28;01mif\u001b[39;00m \u001b[38;5;28misinstance\u001b[39m(casted_key, \u001b[38;5;28mslice\u001b[39m) \u001b[38;5;129;01mor\u001b[39;00m (\n\u001b[0;32m   3808\u001b[0m         \u001b[38;5;28misinstance\u001b[39m(casted_key, abc\u001b[38;5;241m.\u001b[39mIterable)\n\u001b[0;32m   3809\u001b[0m         \u001b[38;5;129;01mand\u001b[39;00m \u001b[38;5;28many\u001b[39m(\u001b[38;5;28misinstance\u001b[39m(x, \u001b[38;5;28mslice\u001b[39m) \u001b[38;5;28;01mfor\u001b[39;00m x \u001b[38;5;129;01min\u001b[39;00m casted_key)\n\u001b[0;32m   3810\u001b[0m     ):\n\u001b[0;32m   3811\u001b[0m         \u001b[38;5;28;01mraise\u001b[39;00m InvalidIndexError(key)\n\u001b[1;32m-> 3812\u001b[0m     \u001b[38;5;28;01mraise\u001b[39;00m \u001b[38;5;167;01mKeyError\u001b[39;00m(key) \u001b[38;5;28;01mfrom\u001b[39;00m \u001b[38;5;21;01merr\u001b[39;00m\n\u001b[0;32m   3813\u001b[0m \u001b[38;5;28;01mexcept\u001b[39;00m \u001b[38;5;167;01mTypeError\u001b[39;00m:\n\u001b[0;32m   3814\u001b[0m     \u001b[38;5;66;03m# If we have a listlike key, _check_indexing_error will raise\u001b[39;00m\n\u001b[0;32m   3815\u001b[0m     \u001b[38;5;66;03m#  InvalidIndexError. Otherwise we fall through and re-raise\u001b[39;00m\n\u001b[0;32m   3816\u001b[0m     \u001b[38;5;66;03m#  the TypeError.\u001b[39;00m\n\u001b[0;32m   3817\u001b[0m     \u001b[38;5;28mself\u001b[39m\u001b[38;5;241m.\u001b[39m_check_indexing_error(key)\n",
      "\u001b[1;31mKeyError\u001b[0m: 'date'"
     ]
    }
   ],
   "source": [
    "# Ensure 'train_end_index' is the timestamp in the 'date' column, not the index\n",
    "train_end_index_pos = new_data[new_data['date'] == train_end_index].index[0] if train_end_index in new_data['date'].values else None\n",
    "\n",
    "if train_end_index_pos is not None:\n",
    "    # Split the data into train and validation sets using .iloc (positional indexing)\n",
    "    train = new_data.iloc[:train_end_index_pos + 1]\n",
    "    valid = new_data.iloc[train_end_index_pos + 1:]\n",
    "\n",
    "    # Prepare the training and validation sets\n",
    "    x_train = train.drop('close', axis=1)\n",
    "    y_train = train['close']\n",
    "    x_valid = valid.drop('close', axis=1)\n",
    "    y_valid = valid['close']\n",
    "\n",
    "    # Linear regression model\n",
    "    from sklearn.linear_model import LinearRegression\n",
    "    model = LinearRegression()\n",
    "    model.fit(x_train, y_train)\n",
    "\n",
    "    # Predict using the model\n",
    "    predictions = model.predict(x_valid)\n",
    "else:\n",
    "    print(\"Error: 'train_end_index' is not found in the 'date' column of the DataFrame.\")\n"
   ]
  },
  {
   "cell_type": "code",
   "execution_count": null,
   "metadata": {},
   "outputs": [],
   "source": [
    "# make prediction and find the rmse\n",
    "preds = model.pred(x_valid)\n",
    "rms = np.sqrt(np.mean(np.power((np.array(y_valid) - np.array(preds)),2)))\n",
    "rms"
   ]
  },
  {
   "cell_type": "code",
   "execution_count": null,
   "metadata": {},
   "outputs": [],
   "source": [
    "valid['Predictions'] = 0\n",
    "valid['Predictions'] = preds\n",
    "\n",
    "train.index = new_data[:train_end_index +1].index\n",
    "valid.index = new_data[train_end_index +1:].index\n",
    "\n",
    "plt.plot(train['close'])\n",
    "plt.plot(valid[['close', 'Predictions']])"
   ]
  },
  {
   "cell_type": "markdown",
   "metadata": {},
   "source": [
    "# Inference \n",
    "\n",
    "The problem we are facing is the regression algorithm can overfits the data and month column. So instead of taking into account the previous values from the point of prediction. The model will consider the value from the same date a month ago or the saem date/month a year ago. Therefore, in here we are looking for the independent variables that could be useful for determining the target value.\n",
    "\n",
    "To find the potential target variable we will introduce the KNN algorithm."
   ]
  },
  {
   "cell_type": "code",
   "execution_count": null,
   "metadata": {},
   "outputs": [],
   "source": [
    "from sklearn import neighbors\n",
    "from sklearn.model_selection import GridSearchCV "
   ]
  },
  {
   "cell_type": "code",
   "execution_count": null,
   "metadata": {},
   "outputs": [],
   "source": [
    "# we will use the same train and validation set from last section\n",
    "# scaling data \n",
    "x_train_scaled = scaler.fit_transform(x_train)\n",
    "x_train = pd.DataFrame(x_train_scaled)\n",
    "x_valid_scaled = scaler.fit_transform(x_valid)\n",
    "x_valid = pd.DataFrame(x_valid_scaled)\n",
    "\n",
    "# using gridsearch to find the best parameter \n",
    "params = {'n_neighbors' :[2,3,4,5,6,7,8,9]}\n",
    "knn = neighbors.KNeighborsRegressor()\n",
    "model = GridSearchCV(knn, params, cv=5)\n",
    "\n",
    "# fit the model and make preds\n",
    "model.fit(x_train, y_train)\n",
    "preds= model.predict(x_valid)"
   ]
  },
  {
   "cell_type": "code",
   "execution_count": null,
   "metadata": {},
   "outputs": [],
   "source": [
    "# evaluation\n",
    "rms = np.sqrt(np.mean(np.power(np.array(y_valid)-np.array(preds)),2))\n",
    "rms"
   ]
  },
  {
   "cell_type": "code",
   "execution_count": null,
   "metadata": {},
   "outputs": [],
   "source": [
    "valid['Predictions'] = 0\n",
    "valid['Predictions'] = preds\n",
    "plt.plot(valid[['close', 'Predictions']])\n",
    "plt.plot(train['close'])"
   ]
  },
  {
   "cell_type": "markdown",
   "metadata": {},
   "source": [
    "Auto ARIMA is a statistical method for time seriees forecasting, it takes into account the past values to predict the future values. There are three important paarameters in ARIMA:\n",
    "- p : past value used for forecasting the next level\n",
    "- q : past forecast errors used to predict the future values\n",
    "- d : order of differencing\n",
    "\n",
    "Ref:\n",
    "- ARIMA for Time Series Forecasting: A Complete Guide: https://www.datacamp.com/tutorial/arima?utm_source=google&utm_medium=paid_search&utm_campaignid=19589720824&utm_adgroupid=157156375671&utm_device=c&utm_keyword=&utm_matchtype=&utm_network=g&utm_adpostion=&utm_creative=684592140413&utm_targetid=aud-1940143831083:dsa-2218886984580&utm_loc_interest_ms=&utm_loc_physical_ms=1030757&utm_content=&utm_campaign=230119_1-sea~dsa~tofu_2-b2c_3-apac_4-prc_5-na_6-na_7-le_8-pdsh-go_9-nb-e_10-na_11-na&gad_source=1&gclid=CjwKCAiAzba9BhBhEiwA7glbagRjFymdE4FNEQY5fA4CFyFXky2KgSmtud644MPkQieci9IoSOB7OhoCwiYQAvD_BwE \n",
    "- Build high performance Time Series Models using Auto ARIMA in python and R: https://www.analyticsvidhya.com/blog/2018/08/auto-arima-time-series-modeling-python-r/"
   ]
  },
  {
   "cell_type": "code",
   "execution_count": null,
   "metadata": {},
   "outputs": [],
   "source": [
    "# inference\n",
    "from pyramid.arima import auto_arima\n",
    "\n",
    "data = df.sort_index(ascending=True, axis=0)\n",
    "\n",
    "train = data[:train_end_index+1]\n",
    "valid = data[train_end_index+1:]\n",
    "\n",
    "training = train['close']\n",
    "validation = valid['close']\n",
    "\n",
    "model = auto_arima(training, start_p=1, start_q=1,max_p=3, max_q=3, m=12,start_P=0, seasonal=True,d=1, D=1, trace=True,error_action='ignore',suppress_warnings=True)\n",
    "model.fit(training)"
   ]
  },
  {
   "cell_type": "code",
   "execution_count": null,
   "metadata": {},
   "outputs": [],
   "source": [
    "from fbprophet import Prophet\n",
    "\n",
    "# creating new dataframe\n",
    "new_data = pd.DataFrame(index=range(0, len(df)), columns=['date', 'close'])\n",
    "\n",
    "for j in range(0, len(data)):\n",
    "    new_data['date'][j] = data['date'][j]\n",
    "    new_data['close'][j] = data['close'][j]\n",
    "\n",
    "# setting index\n",
    "new_data.index = new_data.Date "
   ]
  },
  {
   "cell_type": "code",
   "execution_count": null,
   "metadata": {},
   "outputs": [],
   "source": []
  },
  {
   "cell_type": "markdown",
   "metadata": {},
   "source": [
    "Feature Engineering \n",
    "- Latest Announcement of companies\n",
    "- Quarterly Revenue Results\n",
    "- Total Trade Quantity is the number of shares bought or sold in the day and Turnover (lacs) is the turn over of the particular company on a given date"
   ]
  },
  {
   "cell_type": "code",
   "execution_count": null,
   "metadata": {},
   "outputs": [],
   "source": []
  }
 ],
 "metadata": {
  "kernelspec": {
   "display_name": "base",
   "language": "python",
   "name": "python3"
  },
  "language_info": {
   "codemirror_mode": {
    "name": "ipython",
    "version": 3
   },
   "file_extension": ".py",
   "mimetype": "text/x-python",
   "name": "python",
   "nbconvert_exporter": "python",
   "pygments_lexer": "ipython3",
   "version": "3.12.7"
  }
 },
 "nbformat": 4,
 "nbformat_minor": 2
}
